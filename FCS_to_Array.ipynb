{
 "cells": [
  {
   "cell_type": "markdown",
   "metadata": {},
   "source": [
    "### Prepare fcs files for deep learning\n",
    "This is a small example for formatting data from fcs files into numpy array, and save the metaData, marker names and the numpy array into allData.obj file. Use the script as a template to prepare your own fcs files for deep learning. "
   ]
  },
  {
   "cell_type": "markdown",
   "metadata": {},
   "source": [
    "RD 27Nov2024: needs R and Flow core installed to run the first coding cell.https://rdrr.io/bioc/flowCore/ and https://cran.r-project.org/bin/macosx/"
   ]
  },
  {
   "cell_type": "code",
   "execution_count": 3,
   "metadata": {
    "collapsed": false
   },
   "outputs": [],
   "source": [
    "import numpy as np\n",
    "import scipy as sp\n",
    "import pandas as pd\n",
    "import rpy2 as rp\n",
    "from rpy2.robjects.packages import importr\n",
    "from rpy2.robjects import pandas2ri\n",
    "from rpy2.robjects.conversion import localconverter\n",
    "import os \n",
    "import rpy2.robjects as ro\n",
    "import pickle\n",
    "from collections import Counter\n",
    "\n",
    "\n",
    "# import R's \"flowCore\" package\n",
    "utils = importr('flowCore')"
   ]
  },
  {
   "cell_type": "code",
   "execution_count": 4,
   "metadata": {
    "collapsed": false
   },
   "outputs": [
    {
     "name": "stdout",
     "output_type": "stream",
     "text": [
      "          name study_accession  CMV_Ab\n",
      "0  sample1.fcs          study1    True\n",
      "1  sample2.fcs          study2   False\n",
      "2  sample3.fcs          study3    True\n"
     ]
    }
   ],
   "source": [
    "##### list fcs files #####\n",
    "cytof_files = pd.read_csv(\"metaData.csv\")\n",
    "print(cytof_files)\n",
    "fn = [os.path.join(os.getcwd(),f) for f in cytof_files.name]"
   ]
  },
  {
   "cell_type": "code",
   "execution_count": 10,
   "metadata": {
    "collapsed": true
   },
   "outputs": [
    {
     "name": "stderr",
     "output_type": "stream",
     "text": [
      "R[write to console]: Error in library(MetaCyto) : there is no package called ‘MetaCyto’\n",
      "\n"
     ]
    },
    {
     "ename": "RRuntimeError",
     "evalue": "Error in library(MetaCyto) : there is no package called ‘MetaCyto’\n",
     "output_type": "error",
     "traceback": [
      "\u001b[0;31m---------------------------------------------------------------------------\u001b[0m",
      "\u001b[0;31mRRuntimeError\u001b[0m                             Traceback (most recent call last)",
      "Cell \u001b[0;32mIn[10], line 20\u001b[0m\n\u001b[1;32m      9\u001b[0m fn_i \u001b[38;5;241m=\u001b[39m fn[i]\n\u001b[1;32m     10\u001b[0m r_code \u001b[38;5;241m=\u001b[39m (\u001b[38;5;124m\"\u001b[39m\u001b[38;5;124mlibrary(flowCore);\u001b[39m\u001b[38;5;124m\"\u001b[39m\u001b[38;5;241m+\u001b[39m\n\u001b[1;32m     11\u001b[0m       \u001b[38;5;124m\"\u001b[39m\u001b[38;5;124mlibrary(MetaCyto);\u001b[39m\u001b[38;5;124m\"\u001b[39m\u001b[38;5;241m+\u001b[39m\n\u001b[1;32m     12\u001b[0m       \u001b[38;5;124m\"\u001b[39m\u001b[38;5;124mfn = \u001b[39m\u001b[38;5;124m'\u001b[39m\u001b[38;5;124m\"\u001b[39m\u001b[38;5;241m+\u001b[39m fn_i\u001b[38;5;241m+\u001b[39m \u001b[38;5;124m\"\u001b[39m\u001b[38;5;124m'\u001b[39m\u001b[38;5;124m; \u001b[39m\u001b[38;5;124m\"\u001b[39m\u001b[38;5;241m+\u001b[39m\n\u001b[0;32m   (...)\u001b[0m\n\u001b[1;32m     18\u001b[0m      \u001b[38;5;66;03m# subsample 10,000 cells\u001b[39;00m\n\u001b[1;32m     19\u001b[0m      \u001b[38;5;124m\"\u001b[39m\u001b[38;5;124mexpr = expr[sample(1:nrow(expr),10000,replace = TRUE),]\u001b[39m\u001b[38;5;124m\"\u001b[39m)\n\u001b[0;32m---> 20\u001b[0m expr \u001b[38;5;241m=\u001b[39m  \u001b[43mr\u001b[49m\u001b[43m(\u001b[49m\u001b[43mr_code\u001b[49m\u001b[43m)\u001b[49m\n\u001b[1;32m     21\u001b[0m expr_list\u001b[38;5;241m.\u001b[39mappend(expr)\n",
      "File \u001b[0;32m~/Desktop/AMATH445/Project/.venv/lib/python3.11/site-packages/rpy2/robjects/__init__.py:509\u001b[0m, in \u001b[0;36mR.__call__\u001b[0;34m(self, string, invisible, print_r_warnings)\u001b[0m\n\u001b[1;32m    507\u001b[0m     invisible \u001b[38;5;241m=\u001b[39m \u001b[38;5;28mself\u001b[39m\u001b[38;5;241m.\u001b[39m_invisible\n\u001b[1;32m    508\u001b[0m \u001b[38;5;28;01mif\u001b[39;00m invisible:\n\u001b[0;32m--> 509\u001b[0m     res, visible \u001b[38;5;241m=\u001b[39m \u001b[43mrinterface\u001b[49m\u001b[38;5;241;43m.\u001b[39;49m\u001b[43mevalr_expr_with_visible\u001b[49m\u001b[43m(\u001b[49m\u001b[43m   \u001b[49m\u001b[38;5;66;43;03m# type: ignore\u001b[39;49;00m\n\u001b[1;32m    510\u001b[0m \u001b[43m        \u001b[49m\u001b[43mr_expr\u001b[49m\n\u001b[1;32m    511\u001b[0m \u001b[43m    \u001b[49m\u001b[43m)\u001b[49m\n\u001b[1;32m    512\u001b[0m     \u001b[38;5;28;01mif\u001b[39;00m \u001b[38;5;129;01mnot\u001b[39;00m visible[\u001b[38;5;241m0\u001b[39m]:  \u001b[38;5;66;03m# type: ignore\u001b[39;00m\n\u001b[1;32m    513\u001b[0m         res \u001b[38;5;241m=\u001b[39m \u001b[38;5;28;01mNone\u001b[39;00m\n",
      "File \u001b[0;32m~/Desktop/AMATH445/Project/.venv/lib/python3.11/site-packages/rpy2/rinterface.py:192\u001b[0m, in \u001b[0;36mevalr_expr_with_visible\u001b[0;34m(expr, envir)\u001b[0m\n\u001b[1;32m    185\u001b[0m r_res \u001b[38;5;241m=\u001b[39m rmemory\u001b[38;5;241m.\u001b[39mprotect(\n\u001b[1;32m    186\u001b[0m         openrlib\u001b[38;5;241m.\u001b[39mrlib\u001b[38;5;241m.\u001b[39mR_tryEval(\n\u001b[1;32m    187\u001b[0m             r_call,\n\u001b[1;32m    188\u001b[0m             envir\u001b[38;5;241m.\u001b[39m__sexp__\u001b[38;5;241m.\u001b[39m_cdata,  \u001b[38;5;66;03m# call context.\u001b[39;00m\n\u001b[1;32m    189\u001b[0m             error_occured)\n\u001b[1;32m    190\u001b[0m )\n\u001b[1;32m    191\u001b[0m \u001b[38;5;28;01mif\u001b[39;00m error_occured[\u001b[38;5;241m0\u001b[39m]:\n\u001b[0;32m--> 192\u001b[0m     \u001b[38;5;28;01mraise\u001b[39;00m embedded\u001b[38;5;241m.\u001b[39mRRuntimeError(_rinterface\u001b[38;5;241m.\u001b[39m_geterrmessage())\n\u001b[1;32m    193\u001b[0m res \u001b[38;5;241m=\u001b[39m conversion\u001b[38;5;241m.\u001b[39m_cdata_to_rinterface(r_res)\n\u001b[1;32m    194\u001b[0m \u001b[38;5;28;01massert\u001b[39;00m \u001b[38;5;28misinstance\u001b[39m(res, ListSexpVector)\n",
      "\u001b[0;31mRRuntimeError\u001b[0m: Error in library(MetaCyto) : there is no package called ‘MetaCyto’\n"
     ]
    }
   ],
   "source": [
    "##### read fcs file using the flowCore R package #####\n",
    "# flowCore is a very well maintained R package for reading and analyzing fcs files\n",
    "# Many of the fcs file related packages in python are a little buggy to use\n",
    "# Therefore, it is worth the trouble to read the fcs files using R \n",
    "\n",
    "r = rp.robjects.r\n",
    "expr_list = []\n",
    "for i in range(0,len(fn)):\n",
    "    fn_i = fn[i]\n",
    "    r_code = (\"library(flowCore);\"+\n",
    "          \"library(MetaCyto);\"+\n",
    "          \"fn = '\"+ fn_i+ \"'; \"+\n",
    "          \"fcs = read.FCS(fn,truncate_max_range = FALSE);\"+\n",
    "          \"expr = fcs@exprs;\"+\n",
    "          \"markers = markerFinder(fcs);\"+\n",
    "          \"colnames(expr) = markers;\"+\n",
    "          \"expr = as.data.frame(expr);\"+\n",
    "         # subsample 10,000 cells\n",
    "         \"expr = expr[sample(1:nrow(expr),10000,replace = TRUE),]\")\n",
    "    expr =  r(r_code)\n",
    "    expr_list.append(expr)"
   ]
  },
  {
   "cell_type": "code",
   "execution_count": 4,
   "metadata": {
    "collapsed": false
   },
   "outputs": [
    {
     "name": "stdout",
     "output_type": "stream",
     "text": [
      "['TIME', 'CD57', 'CD19', 'CD45RA', 'CD4', 'CD8', 'CD20', 'CD16', 'CD127', 'CD123', 'CXCR5', 'CD86', 'CD27', 'CD11C', 'CD14', 'CD56', 'CCR6', 'CD25', 'CCR7', 'CD3', 'CD38', 'CD161', 'CXCR3', 'HLADR', 'CD11B']\n"
     ]
    }
   ],
   "source": [
    "##### get common markers #####\n",
    "markers = []\n",
    "for i in range(len(expr_list)):\n",
    "    markers.extend(expr_list[i].colnames)\n",
    "\n",
    "markers = Counter(markers)\n",
    "markers = [k for k, c in markers.items() if c == 3]\n",
    "print(markers)\n",
    "\n",
    "for i in range(0,len(expr_list)):\n",
    "    t1 = expr_list[i] \n",
    "    with localconverter(ro.default_converter + pandas2ri.converter):\n",
    "        t1 = ro.conversion.rpy2py(t1)\n",
    "    expr_list[i] = t1.loc[:,markers]"
   ]
  },
  {
   "cell_type": "code",
   "execution_count": 5,
   "metadata": {
    "collapsed": false
   },
   "outputs": [
    {
     "name": "stdout",
     "output_type": "stream",
     "text": [
      "The dimenstion of the data is:  (3, 10000, 24, 1)\n"
     ]
    }
   ],
   "source": [
    "##### transform and format into numpy array\n",
    "def arcsinh(x):\n",
    "    return(np.arcsinh(x/5))\n",
    "\n",
    "coln = expr_list[0].columns.drop(\"TIME\")\n",
    "for i in range(len(expr_list)):\n",
    "    t1 = expr_list[i].drop(columns=\"TIME\")\n",
    "    t1 = t1.apply(arcsinh)\n",
    "    t1 = t1.values\n",
    "    shape1 = list(t1.shape)+[1]\n",
    "    t1 = t1.reshape(shape1)\n",
    "    expr_list[i] = t1\n",
    "    \n",
    "expr_list = np.stack(expr_list)\n",
    "print(\"The dimenstion of the data is: \", expr_list.shape)"
   ]
  },
  {
   "cell_type": "code",
   "execution_count": 6,
   "metadata": {
    "collapsed": true
   },
   "outputs": [],
   "source": [
    "allData = {\"cytof_files\":cytof_files, \n",
    "            \"expr_list\" : expr_list,\n",
    "            \"marker_names\" : coln}\n",
    "\n",
    "with open(\"allData.obj\", \"wb\") as f:\n",
    "    pickle.dump(allData, f)"
   ]
  },
  {
   "cell_type": "code",
   "execution_count": null,
   "metadata": {
    "collapsed": false
   },
   "outputs": [],
   "source": []
  },
  {
   "cell_type": "code",
   "execution_count": null,
   "metadata": {
    "collapsed": true
   },
   "outputs": [],
   "source": []
  },
  {
   "cell_type": "code",
   "execution_count": null,
   "metadata": {
    "collapsed": true
   },
   "outputs": [],
   "source": []
  }
 ],
 "metadata": {
  "kernelspec": {
   "display_name": ".venv",
   "language": "python",
   "name": "python3"
  },
  "language_info": {
   "codemirror_mode": {
    "name": "ipython",
    "version": 3
   },
   "file_extension": ".py",
   "mimetype": "text/x-python",
   "name": "python",
   "nbconvert_exporter": "python",
   "pygments_lexer": "ipython3",
   "version": "3.11.9"
  }
 },
 "nbformat": 4,
 "nbformat_minor": 2
}
